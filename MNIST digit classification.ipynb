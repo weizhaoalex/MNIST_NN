{
 "cells": [
  {
   "cell_type": "code",
   "execution_count": 14,
   "metadata": {},
   "outputs": [],
   "source": [
    "import tensorflow as tf\n",
    "import keras\n",
    "import mnist\n",
    "import numpy as np\n",
    "from keras.models import Sequential\n",
    "from keras.utils import to_categorical\n",
    "from keras.layers import Conv2D, MaxPooling2D, Dense, Flatten, Dropout"
   ]
  },
  {
   "cell_type": "code",
   "execution_count": 2,
   "metadata": {},
   "outputs": [
    {
     "name": "stdout",
     "output_type": "stream",
     "text": [
      "(60000, 28, 28)\n",
      "(60000,)\n",
      "(10000, 28, 28)\n",
      "(10000,)\n"
     ]
    }
   ],
   "source": [
    "train_images = mnist.train_images()\n",
    "train_labels = mnist.train_labels()\n",
    "print(train_images.shape)\n",
    "print(train_labels.shape)\n",
    "\n",
    "test_images = mnist.test_images()\n",
    "test_labels=mnist.test_labels()\n",
    "print(test_images.shape)\n",
    "print(test_labels.shape)"
   ]
  },
  {
   "cell_type": "code",
   "execution_count": 3,
   "metadata": {},
   "outputs": [
    {
     "name": "stdout",
     "output_type": "stream",
     "text": [
      "(60000, 784)\n",
      "(10000, 784)\n"
     ]
    }
   ],
   "source": [
    "# Normalize the images\n",
    "\n",
    "train_images = (train_images/255) - 0.5\n",
    "test_images = (test_images/255) - 0.5\n",
    "\n",
    "# Flatten the images.\n",
    "train_images = train_images.reshape((-1,784))\n",
    "test_images = test_images.reshape((-1,784))\n",
    "\n",
    "print(train_images.shape)\n",
    "print(test_images.shape)"
   ]
  },
  {
   "cell_type": "code",
   "execution_count": 5,
   "metadata": {},
   "outputs": [
    {
     "name": "stderr",
     "output_type": "stream",
     "text": [
      "WARNING: Logging before flag parsing goes to stderr.\n",
      "W0908 21:23:22.341517 17972 deprecation_wrapper.py:119] From C:\\Anaconda\\envs\\tensorenviron\\lib\\site-packages\\keras\\backend\\tensorflow_backend.py:74: The name tf.get_default_graph is deprecated. Please use tf.compat.v1.get_default_graph instead.\n",
      "\n",
      "W0908 21:23:22.456241 17972 deprecation_wrapper.py:119] From C:\\Anaconda\\envs\\tensorenviron\\lib\\site-packages\\keras\\backend\\tensorflow_backend.py:517: The name tf.placeholder is deprecated. Please use tf.compat.v1.placeholder instead.\n",
      "\n",
      "W0908 21:23:22.481180 17972 deprecation_wrapper.py:119] From C:\\Anaconda\\envs\\tensorenviron\\lib\\site-packages\\keras\\backend\\tensorflow_backend.py:4138: The name tf.random_uniform is deprecated. Please use tf.random.uniform instead.\n",
      "\n",
      "W0908 21:23:22.567846 17972 deprecation_wrapper.py:119] From C:\\Anaconda\\envs\\tensorenviron\\lib\\site-packages\\keras\\optimizers.py:790: The name tf.train.Optimizer is deprecated. Please use tf.compat.v1.train.Optimizer instead.\n",
      "\n",
      "W0908 21:23:22.617758 17972 deprecation_wrapper.py:119] From C:\\Anaconda\\envs\\tensorenviron\\lib\\site-packages\\keras\\backend\\tensorflow_backend.py:3295: The name tf.log is deprecated. Please use tf.math.log instead.\n",
      "\n",
      "W0908 21:23:22.788589 17972 deprecation.py:323] From C:\\Anaconda\\envs\\tensorenviron\\lib\\site-packages\\tensorflow\\python\\ops\\math_grad.py:1250: add_dispatch_support.<locals>.wrapper (from tensorflow.python.ops.array_ops) is deprecated and will be removed in a future version.\n",
      "Instructions for updating:\n",
      "Use tf.where in 2.0, which has the same broadcast rule as np.where\n",
      "W0908 21:23:22.874360 17972 deprecation_wrapper.py:119] From C:\\Anaconda\\envs\\tensorenviron\\lib\\site-packages\\keras\\backend\\tensorflow_backend.py:986: The name tf.assign_add is deprecated. Please use tf.compat.v1.assign_add instead.\n",
      "\n"
     ]
    },
    {
     "name": "stdout",
     "output_type": "stream",
     "text": [
      "Epoch 1/5\n",
      "60000/60000 [==============================] - 8s 137us/step - loss: 0.3507 - acc: 0.8941\n",
      "Epoch 2/5\n",
      "60000/60000 [==============================] - 7s 113us/step - loss: 0.1815 - acc: 0.9443\n",
      "Epoch 3/5\n",
      "60000/60000 [==============================] - 8s 141us/step - loss: 0.1386 - acc: 0.9579\n",
      "Epoch 4/5\n",
      "60000/60000 [==============================] - 7s 111us/step - loss: 0.1169 - acc: 0.9638\n",
      "Epoch 5/5\n",
      "60000/60000 [==============================] - 7s 108us/step - loss: 0.0988 - acc: 0.9687\n"
     ]
    },
    {
     "data": {
      "text/plain": [
       "<keras.callbacks.History at 0x241b58befc8>"
      ]
     },
     "execution_count": 5,
     "metadata": {},
     "output_type": "execute_result"
    }
   ],
   "source": [
    "# Fully connected NN\n",
    "\n",
    "model = Sequential([\n",
    "    Dense(64, activation = 'relu', input_shape=(784,)),\n",
    "    Dense(64, activation = 'relu'),\n",
    "    Dense(10, activation = 'softmax'),\n",
    "])\n",
    "\n",
    "model.compile(\n",
    "    optimizer = 'adam',\n",
    "    loss = 'categorical_crossentropy',\n",
    "    metrics=['accuracy'],\n",
    ")\n",
    "\n",
    "model.fit(\n",
    "    train_images,\n",
    "    to_categorical(train_labels),\n",
    "    epochs = 5,\n",
    "    batch_size = 32,\n",
    ")"
   ]
  },
  {
   "cell_type": "code",
   "execution_count": 6,
   "metadata": {},
   "outputs": [
    {
     "name": "stdout",
     "output_type": "stream",
     "text": [
      "10000/10000 [==============================] - 1s 52us/step\n"
     ]
    },
    {
     "data": {
      "text/plain": [
       "[0.10465343010099605, 0.9699]"
      ]
     },
     "execution_count": 6,
     "metadata": {},
     "output_type": "execute_result"
    }
   ],
   "source": [
    "# Model evaluation\n",
    "\n",
    "model.evaluate(\n",
    "    test_images,\n",
    "    to_categorical(test_labels)\n",
    ")"
   ]
  },
  {
   "cell_type": "code",
   "execution_count": 7,
   "metadata": {},
   "outputs": [
    {
     "name": "stdout",
     "output_type": "stream",
     "text": [
      "(60000, 28, 28, 1)\n",
      "(10000, 28, 28, 1)\n"
     ]
    }
   ],
   "source": [
    "# CNN input, no need to flatten\n",
    "\n",
    "train_images = mnist.train_images()\n",
    "train_labels = mnist.train_labels()\n",
    "test_images = mnist.test_images()\n",
    "test_labels = mnist.test_labels()\n",
    "\n",
    "# Normalize the images.\n",
    "train_images = (train_images / 255) - 0.5\n",
    "test_images = (test_images / 255) - 0.5\n",
    "\n",
    "# Reshape the images.\n",
    "train_images = np.expand_dims(train_images, axis=3)\n",
    "test_images = np.expand_dims(test_images, axis=3)\n",
    "\n",
    "print(train_images.shape) \n",
    "print(test_images.shape) "
   ]
  },
  {
   "cell_type": "code",
   "execution_count": 8,
   "metadata": {},
   "outputs": [
    {
     "name": "stderr",
     "output_type": "stream",
     "text": [
      "W0908 21:25:17.213190 17972 deprecation_wrapper.py:119] From C:\\Anaconda\\envs\\tensorenviron\\lib\\site-packages\\keras\\backend\\tensorflow_backend.py:3976: The name tf.nn.max_pool is deprecated. Please use tf.nn.max_pool2d instead.\n",
      "\n"
     ]
    },
    {
     "name": "stdout",
     "output_type": "stream",
     "text": [
      "Train on 60000 samples, validate on 10000 samples\n",
      "Epoch 1/7\n",
      "60000/60000 [==============================] - 31s 509us/step - loss: 0.3339 - acc: 0.9046 - val_loss: 0.1780 - val_acc: 0.9508\n",
      "Epoch 2/7\n",
      "60000/60000 [==============================] - 33s 557us/step - loss: 0.1415 - acc: 0.9595 - val_loss: 0.1177 - val_acc: 0.9658\n",
      "Epoch 3/7\n",
      "60000/60000 [==============================] - 34s 570us/step - loss: 0.1009 - acc: 0.9710 - val_loss: 0.0933 - val_acc: 0.9709\n",
      "Epoch 4/7\n",
      "60000/60000 [==============================] - 42s 695us/step - loss: 0.0832 - acc: 0.9759 - val_loss: 0.0912 - val_acc: 0.9728\n",
      "Epoch 5/7\n",
      "60000/60000 [==============================] - 30s 503us/step - loss: 0.0726 - acc: 0.9780 - val_loss: 0.0748 - val_acc: 0.9760\n",
      "Epoch 6/7\n",
      "60000/60000 [==============================] - 31s 519us/step - loss: 0.0650 - acc: 0.9812 - val_loss: 0.0773 - val_acc: 0.9766\n",
      "Epoch 7/7\n",
      "60000/60000 [==============================] - 31s 525us/step - loss: 0.0588 - acc: 0.9828 - val_loss: 0.0775 - val_acc: 0.9753\n"
     ]
    },
    {
     "data": {
      "text/plain": [
       "<keras.callbacks.History at 0x241b6b96788>"
      ]
     },
     "execution_count": 8,
     "metadata": {},
     "output_type": "execute_result"
    }
   ],
   "source": [
    "# CNN\n",
    "\n",
    "num_filters = 8\n",
    "filter_size = 3\n",
    "pool_size = 2\n",
    "\n",
    "model2 = Sequential([\n",
    "    Conv2D(num_filters, filter_size, input_shape=(28,28,1)),\n",
    "    MaxPooling2D(pool_size = pool_size),\n",
    "    Flatten(),\n",
    "    Dense(10,activation='softmax'),\n",
    "])\n",
    "\n",
    "model2.compile(\n",
    "    optimizer = 'adam',\n",
    "    loss = 'categorical_crossentropy',\n",
    "    metrics = ['accuracy'],\n",
    ")\n",
    "\n",
    "model2.fit(\n",
    "    train_images,\n",
    "    to_categorical(train_labels),\n",
    "    epochs = 5,\n",
    "    validation_data = (test_images, to_categorical(test_labels)),\n",
    ")"
   ]
  },
  {
   "cell_type": "code",
   "execution_count": 9,
   "metadata": {},
   "outputs": [
    {
     "name": "stdout",
     "output_type": "stream",
     "text": [
      "[7 2 1 ... 4 5 6]\n",
      "[7 2 1 0 4]\n"
     ]
    }
   ],
   "source": [
    "# Predict on the test images.\n",
    "predictions = model2.predict(test_images)\n",
    "\n"
   ]
  },
  {
   "cell_type": "code",
   "execution_count": 15,
   "metadata": {},
   "outputs": [
    {
     "name": "stderr",
     "output_type": "stream",
     "text": [
      "W0908 21:47:21.448113 17972 deprecation.py:506] From C:\\Anaconda\\envs\\tensorenviron\\lib\\site-packages\\keras\\backend\\tensorflow_backend.py:3445: calling dropout (from tensorflow.python.ops.nn_ops) with keep_prob is deprecated and will be removed in a future version.\n",
      "Instructions for updating:\n",
      "Please use `rate` instead of `keep_prob`. Rate should be set to `rate = 1 - keep_prob`.\n"
     ]
    },
    {
     "name": "stdout",
     "output_type": "stream",
     "text": [
      "Train on 60000 samples, validate on 10000 samples\n",
      "Epoch 1/8\n",
      "60000/60000 [==============================] - 80s 1ms/step - loss: 0.2590 - acc: 0.9211 - val_loss: 0.0594 - val_acc: 0.9805\n",
      "Epoch 2/8\n",
      "60000/60000 [==============================] - 79s 1ms/step - loss: 0.0884 - acc: 0.9742 - val_loss: 0.0376 - val_acc: 0.9873\n",
      "Epoch 3/8\n",
      "60000/60000 [==============================] - 79s 1ms/step - loss: 0.0645 - acc: 0.9805 - val_loss: 0.0322 - val_acc: 0.9887\n",
      "Epoch 4/8\n",
      "60000/60000 [==============================] - 83s 1ms/step - loss: 0.0557 - acc: 0.9831 - val_loss: 0.0316 - val_acc: 0.9889\n",
      "Epoch 5/8\n",
      "60000/60000 [==============================] - 79s 1ms/step - loss: 0.0458 - acc: 0.9857 - val_loss: 0.0305 - val_acc: 0.9892\n",
      "Epoch 6/8\n",
      "60000/60000 [==============================] - 79s 1ms/step - loss: 0.0412 - acc: 0.9876 - val_loss: 0.0264 - val_acc: 0.9904\n",
      "Epoch 7/8\n",
      "60000/60000 [==============================] - 77s 1ms/step - loss: 0.0385 - acc: 0.9886 - val_loss: 0.0330 - val_acc: 0.9890\n",
      "Epoch 8/8\n",
      "60000/60000 [==============================] - 81s 1ms/step - loss: 0.0365 - acc: 0.9886 - val_loss: 0.0274 - val_acc: 0.9909\n"
     ]
    },
    {
     "data": {
      "text/plain": [
       "<keras.callbacks.History at 0x241b825c848>"
      ]
     },
     "execution_count": 15,
     "metadata": {},
     "output_type": "execute_result"
    }
   ],
   "source": [
    "# A more complexed CNN\n",
    "\n",
    "model3 = Sequential([\n",
    "    Conv2D(32,kernel_size=(3,3),activation = 'relu',input_shape=(28,28,1)),\n",
    "    Conv2D(64, (3, 3), activation='relu'),\n",
    "    MaxPooling2D(pool_size=(2, 2)),\n",
    "    Dropout(0.25),\n",
    "    Flatten(),\n",
    "    Dense(128, activation='relu'),\n",
    "    Dropout(0.5),\n",
    "    Dense(10, activation='softmax')\n",
    "])\n",
    "\n",
    "model3.compile(loss='categorical_crossentropy',\n",
    "              optimizer='Adadelta',\n",
    "              metrics=['accuracy'])\n",
    "\n",
    "model3.fit(train_images,\n",
    "          to_categorical(train_labels),\n",
    "          batch_size=128,\n",
    "          epochs=8,\n",
    "          verbose=1,\n",
    "          validation_data=(test_images, to_categorical(test_labels)))"
   ]
  },
  {
   "cell_type": "code",
   "execution_count": null,
   "metadata": {},
   "outputs": [],
   "source": []
  }
 ],
 "metadata": {
  "kernelspec": {
   "display_name": "Python 3",
   "language": "python",
   "name": "python3"
  },
  "language_info": {
   "codemirror_mode": {
    "name": "ipython",
    "version": 3
   },
   "file_extension": ".py",
   "mimetype": "text/x-python",
   "name": "python",
   "nbconvert_exporter": "python",
   "pygments_lexer": "ipython3",
   "version": "3.7.4"
  }
 },
 "nbformat": 4,
 "nbformat_minor": 2
}
